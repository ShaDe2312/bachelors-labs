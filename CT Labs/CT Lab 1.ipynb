{
 "cells": [
  {
   "cell_type": "code",
   "execution_count": 9,
   "metadata": {},
   "outputs": [],
   "source": [
    "#Shaunak Deshpande\n",
    "#TY IC-C\n",
    "#Batch-2 Roll-no:39"
   ]
  },
  {
   "cell_type": "code",
   "execution_count": 2,
   "metadata": {},
   "outputs": [],
   "source": [
    "import numpy as np\n",
    "import control\n",
    "from matplotlib import pyplot as plt"
   ]
  },
  {
   "cell_type": "code",
   "execution_count": 5,
   "metadata": {},
   "outputs": [
    {
     "name": "stdout",
     "output_type": "stream",
     "text": [
      "H ( s ) =  \n",
      "2 s + 1\n",
      "-------\n",
      "4 s + 3\n",
      "\n"
     ]
    }
   ],
   "source": [
    "a0=3\n",
    "a1=4\n",
    "b0=1\n",
    "b1=2\n",
    "num = np.array([b1, b0])\n",
    "den = np.array([a1, a0])\n",
    "H = control.tf(num, den)\n",
    "\n",
    "# %% Displaying the transfer function :\n",
    "print ('H ( s ) = ', H)"
   ]
  },
  {
   "cell_type": "code",
   "execution_count": 8,
   "metadata": {},
   "outputs": [
    {
     "name": "stdout",
     "output_type": "stream",
     "text": [
      "H(s)= \n",
      "    1\n",
      "---------\n",
      "100 s + 1\n",
      "\n"
     ]
    }
   ],
   "source": [
    "#For RC Circuit with Capacitance of 1 mF and resistance of 100k Ohm\n",
    "num=[1]\n",
    "den=[100,1]\n",
    "print('H(s)=', control.tf(num,den))"
   ]
  },
  {
   "cell_type": "code",
   "execution_count": null,
   "metadata": {},
   "outputs": [],
   "source": []
  }
 ],
 "metadata": {
  "kernelspec": {
   "display_name": "Python 3",
   "language": "python",
   "name": "python3"
  },
  "language_info": {
   "codemirror_mode": {
    "name": "ipython",
    "version": 3
   },
   "file_extension": ".py",
   "mimetype": "text/x-python",
   "name": "python",
   "nbconvert_exporter": "python",
   "pygments_lexer": "ipython3",
   "version": "3.8.3"
  }
 },
 "nbformat": 4,
 "nbformat_minor": 4
}
