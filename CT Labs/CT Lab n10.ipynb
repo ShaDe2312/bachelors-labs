{
 "cells": [
  {
   "cell_type": "code",
   "execution_count": 9,
   "id": "fbaaf6e0",
   "metadata": {},
   "outputs": [
    {
     "name": "stdout",
     "output_type": "stream",
     "text": [
      "Gain (k):  [[199.  55.   8.]]\n",
      "Gain (k1):  [[199.  55.   8.]]\n"
     ]
    }
   ],
   "source": [
    "import numpy as np \n",
    "import matplotlib.pyplot as plt \n",
    "import control \n",
    "import math \n",
    "\n",
    "\n",
    "A=[[0,1,0],[0,0,1],[-1,-5,-6]] \n",
    "B=[ [0],[0],[1]] \n",
    "s1 = (-2+4j) \n",
    "s2 = (-2-4j) \n",
    "s3 = -10 \n",
    "\n",
    "J = [s1, s2, s3] \n",
    "K = control.place(A, B, J)\n",
    "K1 = control.acker(A, B, J) \n",
    "\n",
    "print(\"Gain (k): \", K)\n",
    "print(\"Gain (k1): \", K1) \n"
   ]
  },
  {
   "cell_type": "code",
   "execution_count": null,
   "id": "2ac39a51",
   "metadata": {},
   "outputs": [],
   "source": []
  }
 ],
 "metadata": {
  "kernelspec": {
   "display_name": "Python 3",
   "language": "python",
   "name": "python3"
  },
  "language_info": {
   "codemirror_mode": {
    "name": "ipython",
    "version": 3
   },
   "file_extension": ".py",
   "mimetype": "text/x-python",
   "name": "python",
   "nbconvert_exporter": "python",
   "pygments_lexer": "ipython3",
   "version": "3.8.3"
  }
 },
 "nbformat": 4,
 "nbformat_minor": 5
}
